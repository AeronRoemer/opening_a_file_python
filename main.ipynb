{
 "metadata": {
  "language_info": {
   "codemirror_mode": {
    "name": "ipython",
    "version": 3
   },
   "file_extension": ".py",
   "mimetype": "text/x-python",
   "name": "python",
   "nbconvert_exporter": "python",
   "pygments_lexer": "ipython3",
   "version": "3.9.0"
  },
  "orig_nbformat": 2,
  "kernelspec": {
   "name": "python390jvsc74a57bd0aee8b7b246df8f9039afb4144a1f6fd8d2ca17a180786b69acc140d282b71a49",
   "display_name": "Python 3.9.0 64-bit"
  },
  "metadata": {
   "interpreter": {
    "hash": "aee8b7b246df8f9039afb4144a1f6fd8d2ca17a180786b69acc140d282b71a49"
   }
  }
 },
 "nbformat": 4,
 "nbformat_minor": 2,
 "cells": [
  {
   "source": [
    "# Opening Any File In Python\n",
    "This is a short workshop about opening files in python. Rather than talking for my five minutes, we'll get a chance to play around. You can run the code in the blocks below. \n",
    "\n",
    "## File Types\n",
    "The first thing you'll notice with this notebook is that there's a lot of different file types featured here. Python can open **Text** or **Binary** files.\n",
    "\n",
    "## Main Steps\n",
    "1. open: `file = open('file path')`\n",
    "2. operation: `file.read()` or `file.write()`\n",
    "3. close: `file.close()`"
   ],
   "cell_type": "markdown",
   "metadata": {}
  },
  {
   "source": [
    "## How to open files in Python\n",
    "### We use the `.open()` function\n",
    "It takes two parameters, the second one is optional. It defaults to read. \n",
    "First, start with your file path. In our case, since we have a 'files' folder, its `'./files/file name'`. We'll assign that to a variable and see what it does.  \n"
   ],
   "cell_type": "markdown",
   "metadata": {}
  },
  {
   "cell_type": "code",
   "execution_count": 66,
   "metadata": {},
   "outputs": [],
   "source": [
    "file = open(\"./files/Sample100.csv\") \n",
    "print(file.read())\n",
    "file.close()"
   ]
  },
  {
   "source": [
    "## Using the second parameter in ``open()``\n",
    "You can also write to the file, or perform another operation. Without entering a parameter, the ``open`` function defaults to `'r'` or read.   Let's check out the options. \n",
    "\n",
    "The second parameter should say what you plan to do with the file. It defaults to `'r'` or read.  \n",
    "This is the full list:  \n",
    "**Mode:** `'r'` This is the default mode. For reading.     \n",
    "**Mode:** `'w'`  Open for writing, truncating the file first.   \n",
    "**Mode:**  `'x'`  Exclusive creation, fails if the file exists already.  \n",
    "**Mode:**  `'a'`  Open for writing, appending to the end of the file.  \n",
    "**Mode:**  `'+'`  Open for reading and writing.   \n",
    "**Mode:**  `'t'`  Text mode.  \n",
    "**Mode:**  `'b'`  Byte mode. \n",
    "\n",
    "\n",
    "A more detailed tutorial on opening, reading and writing files can be found here: \n",
    "https://www.freecodecamp.org/news/python-write-to-file-open-read-append-and-other-file-handling-functions-explained/\n",
    "There's cool stuff like how to read a specified number of bytes from a file.\n",
    "\n",
    "Here's the link for the python docs for open()\n",
    "https://docs.python.org/3/library/functions.html#open\n"
   ],
   "cell_type": "markdown",
   "metadata": {}
  },
  {
   "cell_type": "code",
   "execution_count": 10,
   "metadata": {},
   "outputs": [],
   "source": [
    "file = open(\"./files/Sample100.csv\", 'a') \n",
    "file.write(\"\\nI once opened a CSV,\\n And what did I see?\\n A note to me, from me!\")\n",
    "file.close()"
   ]
  },
  {
   "source": [
    "Note that the file is in append mode, noted by the `'a'` as the second param.\n",
    "The append function returns how many characters were added.\n",
    "Now we'll have to re-open it in 'read' mode."
   ],
   "cell_type": "markdown",
   "metadata": {}
  },
  {
   "cell_type": "code",
   "execution_count": 12,
   "metadata": {},
   "outputs": [],
   "source": [
    "print(open(\"./files/Sample100.csv\", 'r').read())\n",
    "file.close()"
   ]
  },
  {
   "source": [
    "## Try opening these other files in the 'files' folder:\n",
    "### You can type in the code block to change the file names.  \n",
    "a_m_brown.pdf  \n",
    "fawns.bmp  \n",
    "fawns.png  \n",
    "index.html    "
   ],
   "cell_type": "markdown",
   "metadata": {}
  },
  {
   "source": [
    "file = open(\"./files/fawns.png\") \n",
    "print(file.read())\n",
    "file.close()"
   ],
   "cell_type": "code",
   "metadata": {},
   "execution_count": 29,
   "outputs": []
  },
  {
   "source": [
    "You may notice that some files did not open. \n",
    "Python can open text based and binary files. If your file isn't one of those two above, you might be interested in this as a starting place: https://stackoverflow.com/questions/15054434/how-can-i-open-files-in-external-programs-in-python\n"
   ],
   "cell_type": "markdown",
   "metadata": {}
  },
  {
   "source": [
    "## Still here?\n",
    "If you're still here, take you might want try creating a file that doesn't exist."
   ],
   "cell_type": "markdown",
   "metadata": {}
  }
 ]
}