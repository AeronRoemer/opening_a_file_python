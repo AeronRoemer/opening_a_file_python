{
 "metadata": {
  "language_info": {
   "codemirror_mode": {
    "name": "ipython",
    "version": 3
   },
   "file_extension": ".py",
   "mimetype": "text/x-python",
   "name": "python",
   "nbconvert_exporter": "python",
   "pygments_lexer": "ipython3",
   "version": "3.9.0-final"
  },
  "orig_nbformat": 2,
  "kernelspec": {
   "name": "python3",
   "display_name": "Python 3.9.0 64-bit",
   "metadata": {
    "interpreter": {
     "hash": "aee8b7b246df8f9039afb4144a1f6fd8d2ca17a180786b69acc140d282b71a49"
    }
   }
  }
 },
 "nbformat": 4,
 "nbformat_minor": 2,
 "cells": [
  {
   "source": [
    "# Opening Any File In Python\n",
    "This is a short workshop about opening files in python. Rather than talking for my five minutes, we'll get a chance to play around. You can run the code in the blocks below. \n",
    "\n",
    "### File Types\n",
    "The first thing you'll notice with this notebook is that there's a lot of different file types featured here. Python can open Text or Binary files."
   ],
   "cell_type": "markdown",
   "metadata": {}
  },
  {
   "source": [
    "## How to open files in Python\n",
    "First, start with your file path. In our case, since we have a 'files' folder, its './files/file name'. We'll assign that to a variable and see what it does. "
   ],
   "cell_type": "code",
   "metadata": {},
   "execution_count": null,
   "outputs": []
  },
  {
   "cell_type": "code",
   "execution_count": 26,
   "metadata": {},
   "outputs": [],
   "source": [
    "file = open(\"./files/Sample100.csv\") \n",
    "print(file)"
   ]
  },
  {
   "source": [
    "It looks like it just gives us an object about the file. From there, we can use the read() function"
   ],
   "cell_type": "markdown",
   "metadata": {}
  },
  {
   "cell_type": "code",
   "execution_count": 25,
   "metadata": {},
   "outputs": [],
   "source": [
    "print(file.read())\n",
    "file.close()"
   ]
  },
  {
   "source": [
    "## Try opening these other files in the 'files' folder:\n",
    "You can type in the code block to change the file names. \n",
    "a_m_brown.pdf\n",
    "fawns.bmp\n",
    "fawns.png\n",
    "index.html"
   ],
   "cell_type": "code",
   "metadata": {},
   "execution_count": null,
   "outputs": []
  },
  {
   "source": [
    "file = open(\"./files/fawns.png\") \n",
    "print(file.read())\n",
    "file.close()"
   ],
   "cell_type": "code",
   "metadata": {},
   "execution_count": 29,
   "outputs": []
  },
  {
   "source": [
    "You may notice that some files did not open. There are 2 routes to go down if you're faced with a file that does not open, or makes no sense when you look at it. \n",
    "First, ask youself 'Is this a file type that should be opened in python?'\n",
    "Python can open text based and binary files. If your file isn't one of those two above, you might be interested in this as a starting place: https://stackoverflow.com/questions/15054434/how-can-i-open-files-in-external-programs-in-python\n",
    "Then, ask yourself 'Is this meant to have human readable text?'\n",
    "If your answer is *no*, then you have a binary file. What you're doing with it is beyond the scope of this lightning talk. \n",
    "If the answer is *yes*, but your file is still not possible to read, it may have been encoded in a different unicode encoding than you're expecting.\n",
    "Additionally, your file may not be opening because of a different unicode related error. There may be some bytes of information appended to the start of your file, that the computer isn't sure what to do with. This is also beyond the scope of this presentation. \n",
    "\n"
   ],
   "cell_type": "code",
   "metadata": {},
   "execution_count": null,
   "outputs": []
  },
  {
   "cell_type": "code",
   "execution_count": null,
   "metadata": {},
   "outputs": [],
   "source": []
  }
 ]
}