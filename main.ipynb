{
 "metadata": {
  "language_info": {
   "codemirror_mode": {
    "name": "ipython",
    "version": 3
   },
   "file_extension": ".py",
   "mimetype": "text/x-python",
   "name": "python",
   "nbconvert_exporter": "python",
   "pygments_lexer": "ipython3",
   "version": "3.9.0-final"
  },
  "orig_nbformat": 2,
  "kernelspec": {
   "name": "python3",
   "display_name": "Python 3.9.0 64-bit",
   "metadata": {
    "interpreter": {
     "hash": "aee8b7b246df8f9039afb4144a1f6fd8d2ca17a180786b69acc140d282b71a49"
    }
   }
  }
 },
 "nbformat": 4,
 "nbformat_minor": 2,
 "cells": [
  {
   "source": [
    "# Opening Any File In Python\n",
    "This is a short workshop about opening files in python. Rather than talking for my five minutes, we'll get a chance to play around. You can run the code in the blocks below. \n",
    "\n",
    "### File Types\n",
    "The first thing you'll notice with this notebook is that there's a lot of different file types featured here. Python can open Text or Binary files."
   ],
   "cell_type": "markdown",
   "metadata": {}
  },
  {
   "source": [
    "## How to open files in Python\n",
    "### We use the .open() function\n",
    "It takes two parameters.\n",
    "First, start with your file path. In our case, since we have a 'files' folder, its './files/file name'. We'll assign that to a variable and see what it does. \n",
    "The second parameter should say what you plan to do with the file. It defaults to 'r' or read. This is the full list:\n",
    "\n",
    "A more detailed tutorial on opening, reading and writing files can be found here: https://www.freecodecamp.org/news/python-write-to-file-open-read-append-and-other-file-handling-functions-explained/\n",
    "There's cool stuff like how to read a specified number of bytes from a file."
   ],
   "cell_type": "markdown",
   "metadata": {}
  },
  {
   "source": [
    "file = open(\"./files/Sample100.csv\") \n",
    "print(file)\n",
    "file.close()"
   ],
   "cell_type": "code",
   "metadata": {},
   "execution_count": 65,
   "outputs": []
  },
  {
   "source": [
    "It looks like the 'open()' function gives us an object about the file. From there, we can use the read() function"
   ],
   "cell_type": "markdown",
   "metadata": {}
  },
  {
   "cell_type": "code",
   "execution_count": 66,
   "metadata": {},
   "outputs": [],
   "source": [
    "file = open(\"./files/Sample100.csv\") \n",
    "print(file.read())\n",
    "file.close()"
   ]
  },
  {
   "source": [
    "You can also write to the file.\n"
   ],
   "cell_type": "markdown",
   "metadata": {}
  },
  {
   "cell_type": "code",
   "execution_count": 61,
   "metadata": {},
   "outputs": [
    {
     "output_type": "stream",
     "name": "stdout",
     "text": [
      "\n"
     ]
    }
   ],
   "source": [
    "file = open(\"./files/Sample100.csv\", 'a') \n",
    "file.append(\"\\nI once opened a CSV,\\n And what did I see?\\n A note to me, from me!\")\n",
    "file.close()"
   ]
  },
  {
   "source": [
    "Note that the file is in append mode, noted by the 'a' as the second param.\n",
    "The append function returns how many characters were added.\n",
    "Now we'll have to re-open it in 'read' mode."
   ],
   "cell_type": "markdown",
   "metadata": {}
  },
  {
   "cell_type": "code",
   "execution_count": 68,
   "metadata": {},
   "outputs": [],
   "source": [
    "print(open(\"./files/Sample100.csv\", 'r').read())\n",
    "file.close()"
   ]
  },
  {
   "source": [
    "## Try opening these other files in the 'files' folder:\n",
    "You can type in the code block to change the file names. \n",
    "a_m_brown.pdf\n",
    "fawns.bmp\n",
    "fawns.png\n",
    "index.html"
   ],
   "cell_type": "code",
   "metadata": {},
   "execution_count": null,
   "outputs": []
  },
  {
   "source": [
    "file = open(\"./files/fawns.png\") \n",
    "print(file.read())\n",
    "file.close()"
   ],
   "cell_type": "code",
   "metadata": {},
   "execution_count": 29,
   "outputs": []
  },
  {
   "source": [
    "You may notice that some files did not open. \n",
    "Python can open text based and binary files. If your file isn't one of those two above, you might be interested in this as a starting place: https://stackoverflow.com/questions/15054434/how-can-i-open-files-in-external-programs-in-python\n"
   ],
   "cell_type": "markdown",
   "metadata": {}
  },
  {
   "cell_type": "code",
   "execution_count": null,
   "metadata": {},
   "outputs": [],
   "source": []
  }
 ]
}