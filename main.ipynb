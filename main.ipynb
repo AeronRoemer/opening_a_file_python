{
 "metadata": {
  "language_info": {
   "codemirror_mode": {
    "name": "ipython",
    "version": 3
   },
   "file_extension": ".py",
   "mimetype": "text/x-python",
   "name": "python",
   "nbconvert_exporter": "python",
   "pygments_lexer": "ipython3",
   "version": "3.9.0-final"
  },
  "orig_nbformat": 2,
  "kernelspec": {
   "name": "python3",
   "display_name": "Python 3.9.0 64-bit",
   "metadata": {
    "interpreter": {
     "hash": "aee8b7b246df8f9039afb4144a1f6fd8d2ca17a180786b69acc140d282b71a49"
    }
   }
  }
 },
 "nbformat": 4,
 "nbformat_minor": 2,
 "cells": [
  {
   "source": [
    "# Opening Any File In Python\n",
    "This is a short workshop about opening files in python. Rather than talking for my five minutes, we'll get a chance to play around. You can run the code in the blocks below. "
   ],
   "cell_type": "markdown",
   "metadata": {}
  },
  {
   "source": [
    "## How to open files in Python\n",
    "First, start with your file path. In our case, since we have a 'files' folder, its './files/file name'. We'll assign that to a variable and see what it does. "
   ],
   "cell_type": "code",
   "metadata": {},
   "execution_count": null,
   "outputs": []
  },
  {
   "cell_type": "code",
   "execution_count": 26,
   "metadata": {},
   "outputs": [],
   "source": [
    "file = open(\"./files/Sample100.csv\") \n",
    "print(file)"
   ]
  },
  {
   "source": [
    "It looks like it just gives us an object about the file. From there, we can use the read() function"
   ],
   "cell_type": "markdown",
   "metadata": {}
  },
  {
   "cell_type": "code",
   "execution_count": 25,
   "metadata": {},
   "outputs": [],
   "source": [
    "print(file.read())\n",
    "file.close()"
   ]
  },
  {
   "cell_type": "code",
   "execution_count": 20,
   "metadata": {},
   "outputs": [
    {
     "output_type": "stream",
     "name": "stdout",
     "text": [
      "<_io.TextIOWrapper name='./files/Sample100.csv' mode='a' encoding='UTF-8'>\n"
     ]
    }
   ],
   "source": []
  },
  {
   "source": [
    "You may notice that some files did not open. There are 2 routes to go down if you're faced with a file that does not open, or makes no sense when you look at it. \n",
    "First, ask youself 'Is this a file type that should be opened in python?'\n",
    "Python can open text based and binary files. So image files should be opened elsewhere. \n",
    "Then, ask yourself 'Is this meant to have human readable text?'\n",
    "If your answer is *no*, look more into the file type. How should the file be handled?\n",
    "If the answer is *yes*, but your file is still not possible to read, it may have been encoded in a different unicode encoding than you're expecting."
   ],
   "cell_type": "markdown",
   "metadata": {}
  },
  {
   "cell_type": "code",
   "execution_count": null,
   "metadata": {},
   "outputs": [],
   "source": []
  }
 ]
}